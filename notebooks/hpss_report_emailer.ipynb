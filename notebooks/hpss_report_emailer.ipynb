{
 "cells": [
  {
   "cell_type": "markdown",
   "metadata": {},
   "source": [
    "# HPSS Report Emailer\n",
    "\n",
    "This notebook ingests an HPSS Daily Report text, creates graphical representations of some records, and crafts an HTML email with the plots embedded."
   ]
  },
  {
   "cell_type": "code",
   "execution_count": null,
   "metadata": {},
   "outputs": [],
   "source": [
    "%matplotlib inline"
   ]
  },
  {
   "cell_type": "code",
   "execution_count": null,
   "metadata": {},
   "outputs": [],
   "source": [
    "import datetime\n",
    "import copy\n",
    "import re\n",
    "import os"
   ]
  },
  {
   "cell_type": "code",
   "execution_count": null,
   "metadata": {},
   "outputs": [],
   "source": [
    "import matplotlib\n",
    "import matplotlib.pyplot\n",
    "import tokio"
   ]
  },
  {
   "cell_type": "code",
   "execution_count": null,
   "metadata": {},
   "outputs": [],
   "source": [
    "# Input parameters for the notebook\n",
    "TARGET_DATE = datetime.datetime(2020, 3, 13)\n",
    "TARGET_SYSTEM = 'archive'\n",
    "\n",
    "EXAMPLE_REPORT_SECTION = 'io totals by hpss client gateway (ui) host'"
   ]
  },
  {
   "cell_type": "code",
   "execution_count": null,
   "metadata": {},
   "outputs": [],
   "source": [
    "# Identify the text file containing the daily report from flanders\n",
    "report_filename = tokio.tools.common.enumerate_dated_files(\n",
    "    start=TARGET_DATE,\n",
    "    end=TARGET_DATE + datetime.timedelta(days=1),\n",
    "    template=tokio.config.CONFIG.get('hpss_report_files'))[0]\n",
    "\n",
    "# Convert that text file into a Python dictionary\n",
    "hpss_report = tokio.connectors.hpss.HpssDailyReport(report_filename)"
   ]
  },
  {
   "cell_type": "code",
   "execution_count": null,
   "metadata": {},
   "outputs": [],
   "source": [
    "# Show an example of the structure of a single record section\n",
    "hpss_report[TARGET_SYSTEM][EXAMPLE_REPORT_SECTION]['heart'].keys()"
   ]
  },
  {
   "cell_type": "code",
   "execution_count": null,
   "metadata": {},
   "outputs": [],
   "source": [
    "def plot_report_section(report_section, read_key, write_key, include_total=False, ax=None):\n",
    "    \"\"\"Plots a read-vs-write horizontal bar graph of a report section\n",
    "    \n",
    "    Args:\n",
    "        report_section (dict): A key for for the HpssDailyReport[SYSTEM]\n",
    "            dictionary.  Something like ``io totals by hpss client gateway (ui) host``\n",
    "        read_key (str): Column corresponding to a read value (``read_gb`` or ``r_ops``)\n",
    "        write_key (str): Column corresponding to a write value (``write_gb`` or ``w_ops``)\n",
    "        include_total (bool): If True, include the sum of all rows as its own hbar\n",
    "        ax (matplotlib.axes.Axes): If provided, axes in which plot should be added\n",
    "\n",
    "    Returns:\n",
    "        matplotlib.axes.Axes: Axes on which plot was added.\n",
    "    \"\"\"\n",
    "    if ax is None:\n",
    "        fig, ax = matplotlib.pyplot.subplots()\n",
    "\n",
    "    yticklabels = []\n",
    "    for idx, host in enumerate(report_section.keys()):\n",
    "        if host == 'total' and not include_total:\n",
    "            continue\n",
    "        ax.barh(y=idx, width=report_section[host][write_key], color=\"C%d\" % idx, edgecolor='black')\n",
    "        ax.barh(y=idx, width=-report_section[host][read_key], color=\"C%d\" % idx, edgecolor='black')\n",
    "        yticklabels.append((idx, host))    \n",
    "\n",
    "    # this needs to immediately follow the barh since it alters tick widths\n",
    "    fig.set_size_inches(8.0, 2 + 6.0/35.0 * len(list(report_section.keys())))\n",
    "\n",
    "    ax.grid() # or ax.xaxis.grid(True)\n",
    "    ax.set_axisbelow(True)\n",
    "\n",
    "    max_x = max([abs(x) for x in ax.get_xlim()])\n",
    "    ax.set_xlim([-max_x, max_x])\n",
    "    ax.set_xticklabels([int(abs(x)) for x in ax.get_xticks()], rotation=30)\n",
    "    trans = matplotlib.transforms.blended_transform_factory(\n",
    "        ax.transAxes,\n",
    "        ax.transData)\n",
    "    ax.text(x=0.0, y=idx - 0.5, s=\"Read\", transform=trans, ha=\"left\", va=\"top\")\n",
    "    ax.text(x=1.0, y=idx - 0.5, s=\"Write\", transform=trans, ha=\"right\", va=\"top\")\n",
    "\n",
    "    yticks, yticklabels = zip(*yticklabels)\n",
    "    ax.set_yticks(yticks)\n",
    "    ax.set_yticklabels(yticklabels)\n",
    "    ax.set_ylim(ax.get_ylim())\n",
    "\n",
    "    ax.plot([0, 0], [-10, idx+10], color='black', linewidth=1)\n",
    "    \n",
    "    return ax"
   ]
  },
  {
   "cell_type": "code",
   "execution_count": null,
   "metadata": {},
   "outputs": [],
   "source": [
    "# Show an example plot\n",
    "plot_report_section(hpss_report[TARGET_SYSTEM][EXAMPLE_REPORT_SECTION], read_key=\"read_gb\", write_key=\"write_gb\")"
   ]
  },
  {
   "cell_type": "code",
   "execution_count": null,
   "metadata": {},
   "outputs": [],
   "source": [
    "attach_files = []\n",
    "for report_section in hpss_report[TARGET_SYSTEM].keys():\n",
    "    # largest users is ordered, so it needs to be transformed into a dict\n",
    "    if report_section == \"largest users\":\n",
    "        copied_report_section = copy.deepcopy(hpss_report[TARGET_SYSTEM][report_section])\n",
    "        flat_report_section = {}\n",
    "        for record in copied_report_section:\n",
    "            key = record.pop('user')\n",
    "            flat_report_section[key] = record\n",
    "        report_section_contents = flat_report_section\n",
    "    else:\n",
    "        report_section_contents = hpss_report[TARGET_SYSTEM][report_section]\n",
    "\n",
    "    try:\n",
    "        ax = plot_report_section(\n",
    "            report_section=report_section_contents,\n",
    "            read_key=\"read_gb\",\n",
    "            write_key=\"write_gb\")\n",
    "        ax.set_title(\"%s - %s\" % (\n",
    "            re.sub(r'^io totals ', '', report_section)\\\n",
    "                .title()\\\n",
    "                .replace(\"Hpss\", \"HPSS\")\\\n",
    "                .replace(\"Ui\", \"UI\"),\n",
    "            TARGET_DATE.strftime(\"%b %d, %Y\")))\n",
    "        ax.set_xlabel(\"Total I/O (GB)\")\n",
    "        filename = \"%s_%s_%s.png\" % (\n",
    "            TARGET_SYSTEM,\n",
    "            re.sub(r'[\\W]+', '', report_section),\n",
    "            TARGET_DATE.strftime(\"%Y-%m-%d\"))\n",
    "        print(\"Saving output to %s\"  % filename)\n",
    "        attach_files.append(filename)\n",
    "        ax.get_figure().savefig(filename, bbox_inches='tight', transparent=True)\n",
    "    except (KeyError, AttributeError):\n",
    "        continue"
   ]
  },
  {
   "cell_type": "code",
   "execution_count": null,
   "metadata": {},
   "outputs": [],
   "source": [
    "# Send an HTML email with an embedded image and a plain text message for\n",
    "# email clients that don't want to display the HTML.\n",
    "\n",
    "from email.mime.text import MIMEText\n",
    "from email.mime.image import MIMEImage\n",
    "from email.mime.multipart import MIMEMultipart\n",
    "\n",
    "# Define these once; use them twice!\n",
    "strFrom = os.environ.get('USER')\n",
    "strTo = os.environ.get('USER')\n",
    "\n",
    "# Create the root message and fill in the from, to, and subject headers\n",
    "msgRoot = MIMEMultipart('related')\n",
    "msgRoot['Subject'] = 'Daily HPSS Report - Graphical!'\n",
    "msgRoot['From'] = strFrom\n",
    "msgRoot['To'] = strTo\n",
    "msgRoot.preamble = 'This is a multi-part message in MIME format.'\n",
    "\n",
    "# Encapsulate the plain and HTML versions of the message body in an\n",
    "# 'alternative' part, so message agents can decide which they want to display.\n",
    "msgAlternative = MIMEMultipart('alternative')\n",
    "msgRoot.attach(msgAlternative)\n",
    "\n",
    "msgText = MIMEText('This is the alternative plain text message.')\n",
    "msgAlternative.attach(msgText)\n",
    "\n",
    "# We reference the image in the IMG SRC attribute by the ID we give it below\n",
    "msg_html = \"Daily report for %s:<br>\" % TARGET_DATE.strftime(\"%Y-%m-%d\")\n",
    "for attach_file in attach_files:\n",
    "    msg_html += '<img src=\"cid:%s\" width=\"100%%\"><br>' % attach_file\n",
    "    \n",
    "msgText = MIMEText(msg_html, 'html')\n",
    "msgAlternative.attach(msgText)\n",
    "\n",
    "for attach_file in attach_files:\n",
    "    # This example assumes the image is in the current directory\n",
    "    with open(attach_file, 'rb') as fp:\n",
    "        msgImage = MIMEImage(fp.read())\n",
    "\n",
    "    # Define the image's ID as referenced above\n",
    "    msgImage.add_header('Content-ID', '<%s>' % attach_file)\n",
    "    msgRoot.attach(msgImage)\n",
    "\n",
    "# Send the email (this example assumes SMTP authentication is required)\n",
    "import smtplib\n",
    "smtp = smtplib.SMTP()\n",
    "smtp.connect()\n",
    "# smtp.login('exampleuser', 'examplepass')\n",
    "smtp.sendmail(strFrom, strTo, msgRoot.as_string())\n",
    "smtp.quit()"
   ]
  },
  {
   "cell_type": "code",
   "execution_count": null,
   "metadata": {},
   "outputs": [],
   "source": []
  }
 ],
 "metadata": {
  "kernelspec": {
   "display_name": "pytokio-prod",
   "language": "python",
   "name": "pytokio-prod"
  },
  "language_info": {
   "codemirror_mode": {
    "name": "ipython",
    "version": 3
   },
   "file_extension": ".py",
   "mimetype": "text/x-python",
   "name": "python",
   "nbconvert_exporter": "python",
   "pygments_lexer": "ipython3",
   "version": "3.6.8"
  }
 },
 "nbformat": 4,
 "nbformat_minor": 4
}
