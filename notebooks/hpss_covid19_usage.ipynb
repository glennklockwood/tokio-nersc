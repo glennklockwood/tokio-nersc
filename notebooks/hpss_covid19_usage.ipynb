{
 "cells": [
  {
   "cell_type": "markdown",
   "metadata": {},
   "source": [
    "# COVID-19 HPSS Usage\n",
    "\n",
    "This notebook shows some basic HPSS usage information around the beginning of the COVID-19 shutdown.  The archive was experiencing unusual loads, partly originating from a few users using Globus DSI (which does not generate friendly backend I/Os) and partly due to just very high traffic."
   ]
  },
  {
   "cell_type": "code",
   "execution_count": null,
   "metadata": {},
   "outputs": [],
   "source": [
    "%matplotlib inline"
   ]
  },
  {
   "cell_type": "code",
   "execution_count": null,
   "metadata": {},
   "outputs": [],
   "source": [
    "import datetime\n",
    "import collections\n",
    "import copy\n",
    "import re\n",
    "import os"
   ]
  },
  {
   "cell_type": "code",
   "execution_count": null,
   "metadata": {},
   "outputs": [],
   "source": [
    "import pandas\n",
    "import matplotlib\n",
    "import matplotlib.pyplot\n",
    "import tokio"
   ]
  },
  {
   "cell_type": "markdown",
   "metadata": {},
   "source": [
    "## Top users during the COVID-19 shutdown"
   ]
  },
  {
   "cell_type": "code",
   "execution_count": null,
   "metadata": {},
   "outputs": [],
   "source": [
    "# Input parameters for the notebook\n",
    "TARGET_DATE_START = datetime.datetime(2020, 3, 13)\n",
    "TARGET_DATE_END = datetime.datetime(2020, 3, 25)\n",
    "TARGET_SYSTEM = 'archive'"
   ]
  },
  {
   "cell_type": "code",
   "execution_count": null,
   "metadata": {},
   "outputs": [],
   "source": [
    "# Identify the text file containing the daily report from flanders\n",
    "report_filenames = tokio.tools.common.enumerate_dated_files(\n",
    "    start=TARGET_DATE_START,\n",
    "    end=TARGET_DATE_END,\n",
    "    template=tokio.config.CONFIG.get('hpss_report_files'))\n",
    "\n",
    "records = {}\n",
    "for report_filename in report_filenames:\n",
    "    hpss_report = tokio.connectors.hpss.HpssDailyReport(report_filename)\n",
    "    for record in hpss_report[TARGET_SYSTEM]['largest users']:\n",
    "        username = record['user']\n",
    "        if username not in records:\n",
    "            records[username] = {}\n",
    "        for key, val in record.items():\n",
    "            if key in ('user', 'app'):\n",
    "                continue\n",
    "            if key not in records[username]:\n",
    "                records[username][key] = 0\n",
    "            records[username][key] = val"
   ]
  },
  {
   "cell_type": "code",
   "execution_count": null,
   "metadata": {},
   "outputs": [],
   "source": [
    "dataframe = pandas.DataFrame.from_dict(records, orient='index')"
   ]
  },
  {
   "cell_type": "code",
   "execution_count": null,
   "metadata": {},
   "outputs": [],
   "source": [
    "dataframe.sort_values('io_gb')"
   ]
  },
  {
   "cell_type": "code",
   "execution_count": null,
   "metadata": {},
   "outputs": [],
   "source": [
    "def plot_report_section(report_section, read_key, write_key, include_total=False, ax=None):\n",
    "    \"\"\"Plots a read-vs-write horizontal bar graph of a report section\n",
    "    \n",
    "    Args:\n",
    "        report_section (dict): A key for for the HpssDailyReport[SYSTEM]\n",
    "            dictionary.  Something like ``io totals by hpss client gateway (ui) host``\n",
    "        read_key (str): Column corresponding to a read value (``read_gb`` or ``r_ops``)\n",
    "        write_key (str): Column corresponding to a write value (``write_gb`` or ``w_ops``)\n",
    "        include_total (bool): If True, include the sum of all rows as its own hbar\n",
    "        ax (matplotlib.axes.Axes): If provided, axes in which plot should be added\n",
    "\n",
    "    Returns:\n",
    "        matplotlib.axes.Axes: Axes on which plot was added.\n",
    "    \"\"\"\n",
    "    if ax is None:\n",
    "        fig, ax = matplotlib.pyplot.subplots()\n",
    "\n",
    "    yticklabels = []\n",
    "    for idx, host in enumerate(report_section.keys()):\n",
    "        if host == 'total' and not include_total:\n",
    "            continue\n",
    "        ax.barh(y=idx, width=report_section[host][write_key], color=\"C%d\" % idx, edgecolor='black')\n",
    "        ax.barh(y=idx, width=-report_section[host][read_key], color=\"C%d\" % idx, edgecolor='black')\n",
    "        yticklabels.append((idx, host))    \n",
    "\n",
    "    # this needs to immediately follow the barh since it alters tick widths\n",
    "    fig.set_size_inches(8.0, 2 + 6.0/35.0 * len(list(report_section.keys())))\n",
    "\n",
    "    ax.grid() # or ax.xaxis.grid(True)\n",
    "    ax.set_axisbelow(True)\n",
    "\n",
    "    max_x = max([abs(x) for x in ax.get_xlim()])\n",
    "    ax.set_xlim([-max_x, max_x])\n",
    "    ax.set_xticklabels([int(abs(x)) for x in ax.get_xticks()], rotation=30)\n",
    "    trans = matplotlib.transforms.blended_transform_factory(\n",
    "        ax.transAxes,\n",
    "        ax.transData)\n",
    "    ax.text(x=0.0, y=idx - 0.5, s=\"Read\", transform=trans, ha=\"left\", va=\"top\")\n",
    "    ax.text(x=1.0, y=idx - 0.5, s=\"Write\", transform=trans, ha=\"right\", va=\"top\")\n",
    "\n",
    "    yticks, yticklabels = zip(*yticklabels)\n",
    "    ax.set_yticks(yticks)\n",
    "    ax.set_yticklabels(yticklabels)\n",
    "    ax.set_ylim(ax.get_ylim())\n",
    "\n",
    "    ax.plot([0, 0], [-10, idx+10], color='black', linewidth=1)\n",
    "    \n",
    "    return ax"
   ]
  },
  {
   "cell_type": "code",
   "execution_count": null,
   "metadata": {},
   "outputs": [],
   "source": [
    "sorted_keys = sorted(records, key=lambda x: records[x]['io_gb'])\n",
    "sorted_records = collections.OrderedDict([(x, records[x]) for x in sorted_keys[-10:]])"
   ]
  },
  {
   "cell_type": "code",
   "execution_count": null,
   "metadata": {},
   "outputs": [],
   "source": [
    "ax = plot_report_section(sorted_records, read_key='read_gb', write_key='write_gb')\n",
    "ax.set_xlabel(\"GB (or GiB?) Moved\")"
   ]
  },
  {
   "cell_type": "markdown",
   "metadata": {},
   "source": [
    "## Show timeline of daily I/O volumes"
   ]
  },
  {
   "cell_type": "code",
   "execution_count": null,
   "metadata": {},
   "outputs": [],
   "source": [
    "TARGET_DATE_START = datetime.datetime(2020, 2, 25)\n",
    "TARGET_DATE_END = datetime.datetime(2020, 3, 25)"
   ]
  },
  {
   "cell_type": "code",
   "execution_count": null,
   "metadata": {},
   "outputs": [],
   "source": [
    "# Identify the text file containing the daily report from flanders\n",
    "report_filenames = tokio.tools.common.enumerate_dated_files(\n",
    "    start=TARGET_DATE_START,\n",
    "    end=TARGET_DATE_END,\n",
    "    template=tokio.config.CONFIG.get('hpss_report_files'))\n",
    "\n",
    "daily_totals = []\n",
    "for report_filename in report_filenames:\n",
    "    hpss_report = tokio.connectors.hpss.HpssDailyReport(report_filename)\n",
    "\n",
    "\n",
    "    date = datetime.datetime.strptime(report_filename.split('_')[-1], \"%Y%m%d\")\n",
    "    rec = {'date': date.date(), 'io_gb': hpss_report[TARGET_SYSTEM]['io totals by client application']['total']['io_gb']}\n",
    "    daily_totals.append(rec)"
   ]
  },
  {
   "cell_type": "code",
   "execution_count": null,
   "metadata": {},
   "outputs": [],
   "source": [
    "ax = pandas.DataFrame.from_records(daily_totals, index='date').plot.bar(legend=False)\n",
    "ax.set_ylabel(\"GB (or GiB?) Moved\")\n",
    "ax.yaxis.grid()\n",
    "ax.set_axisbelow(True)\n",
    "# ax.tick_params(axis='x', labelrotation=30, ha='right')\n",
    "ax.set_xticklabels([x if y % 2 else None for y, x in enumerate(ax.get_xticklabels()) ], rotation=30, ha='right', fontsize='12')\n",
    "pass"
   ]
  },
  {
   "cell_type": "code",
   "execution_count": null,
   "metadata": {},
   "outputs": [],
   "source": []
  }
 ],
 "metadata": {
  "kernelspec": {
   "display_name": "pytokio-prod",
   "language": "python",
   "name": "pytokio-prod"
  },
  "language_info": {
   "codemirror_mode": {
    "name": "ipython",
    "version": 3
   },
   "file_extension": ".py",
   "mimetype": "text/x-python",
   "name": "python",
   "nbconvert_exporter": "python",
   "pygments_lexer": "ipython3",
   "version": "3.6.8"
  }
 },
 "nbformat": 4,
 "nbformat_minor": 4
}
